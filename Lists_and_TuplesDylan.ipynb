{
  "nbformat": 4,
  "nbformat_minor": 0,
  "metadata": {
    "colab": {
      "name": "Lists and TuplesDylan.ipynb",
      "provenance": [],
      "collapsed_sections": [],
      "include_colab_link": true
    },
    "kernelspec": {
      "name": "python3",
      "display_name": "Python 3"
    },
    "language_info": {
      "name": "python"
    }
  },
  "cells": [
    {
      "cell_type": "markdown",
      "metadata": {
        "id": "view-in-github",
        "colab_type": "text"
      },
      "source": [
        "<a href=\"https://colab.research.google.com/github/kalacstar/Dylan-PythonBegginers/blob/main/Lists_and_TuplesDylan.ipynb\" target=\"_parent\"><img src=\"https://colab.research.google.com/assets/colab-badge.svg\" alt=\"Open In Colab\"/></a>"
      ]
    },
    {
      "cell_type": "markdown",
      "metadata": {
        "id": "Z-M-RCWATK71"
      },
      "source": [
        "# Lists and tuples\n",
        "\n",
        "Often we need to store a number of single items of data together so that they can be processed together. This might be because all the data refers to one person (e.g. name, age, gender, etc) OR it might be because we have a set of data (e.g. all the items that should be displayed in a drop down list, such as all the years from this year back to 100 years ago so that someone can select their year of birth)\n",
        "\n",
        "Python has a range of data structures available including:\n",
        "*   lists  \n",
        "*   tuples  \n",
        "*   dictionaries  \n",
        "*   sets\n",
        "\n",
        "This worksheet looks at lists and tuples.\n",
        "\n",
        "## List\n",
        "A list is a set of related, individual data objects, that are indexed and can be processed as a whole, as subsets or as individual items.  Lists are stored, essentially, as contiguous items in memory so that access can be as quick as possible.  However, they are mutable (they can be changed after they are created and stored) and so those mechanisms need to include extra functionality to deal with changing list sizes.\n",
        "\n",
        "## Tuple\n",
        "Essentially the same as a list but it is immutable.  Once it has been created it can't be changed.  It is stored in memory as contiguous items, with the size required being fixed right from the start.  This makes it faster to access.\n",
        "\n",
        "The code below will create two lists and a tuple.\n",
        "*   the first list contains 1000 random numbers between 1 and 100\n",
        "*   the second list is of random length (up to 5000) and each item is one of the 9 characteristics that are protected under the Equality Act in the UK.\n",
        "*   the tuple contains the 9 protected characteristics\n",
        "\n",
        "Before you start the exercises, run the code below.  It will generate the lists and tuple so that you can use them in the exercises.  If you need to recreate the lists again (because you have changed them and need to work on the originals, just run this cell again).\n",
        "\n",
        "***Note:***  *a list variable contains a reference to the start of the list in memory, rather than storing the list itself.  This means that if you assign the list to another variable (to make a copy), it will only copy across the reference.  If you change the copy, you change the original list.*\n",
        "\n",
        "*If you need to make a copy of the list you will need to use a loop to create a new list and copy all items across.*"
      ]
    },
    {
      "cell_type": "code",
      "metadata": {
        "id": "BDRckXeQXFMT"
      },
      "source": [
        "from random import randint, choice\n",
        "\n",
        "def get_num_list():\n",
        "  num_list = [randint(1,100) for n in range(1000)]\n",
        "  return num_list\n",
        "\n",
        "def get_protected_characteristics():\n",
        "  characteristics_tuple = ('age','disability','gender reassignment','marriage and civil partnership','pregnancy and maternity','race','religion or belief','sex','sexual orientation')\n",
        "  return characteristics_tuple\n",
        "\n",
        "def get_protected_characteristic_list(protected_characteristics):\n",
        "  char_list = [choice(protected_characteristics) for ch in range(randint(1,5000))]\n",
        "  return char_list\n",
        "\n",
        "nums = get_num_list()\n",
        "protected_characteristics = get_protected_characteristics()\n",
        "characteristics = get_protected_characteristic_list(protected_characteristics)"
      ],
      "execution_count": 65,
      "outputs": []
    },
    {
      "cell_type": "markdown",
      "metadata": {
        "id": "xXT38-4ZV45n"
      },
      "source": [
        "## The exercises below will use the lists:  \n",
        "*   **nums** (a list of between 1 and 1000 random numbers, each number is between 0 and 1000)\n",
        "*   **characteristics** (a list of 5000 random protected_characteristics)\n",
        "\n",
        "and the tuple:\n",
        "*  **protected_characteristics** (a set of the 9 protected characteristics identified in the Equality Act)\n",
        "\n",
        "## You can run the cell above any number of times to generate new lists."
      ]
    },
    {
      "cell_type": "markdown",
      "metadata": {
        "id": "Ft0dXl7fUuaK"
      },
      "source": [
        "---\n",
        "### Exercise 1 - list head, tail and shape\n",
        "\n",
        "Write a function, **describe_list()** which will:\n",
        "*  print the length of the list `nums`\n",
        "*  print the first 10 items in `nums`  \n",
        "*  print the last 5 items in `nums`"
      ]
    },
    {
      "cell_type": "code",
      "metadata": {
        "id": "jUcZD7mmTJdA",
        "colab": {
          "base_uri": "https://localhost:8080/"
        },
        "outputId": "2e8b4b21-9f57-4c87-b91d-b7da62f0f0ce"
      },
      "source": [
        "def describe_list():\n",
        "  print(len(nums))\n",
        "  print(nums[:10])\n",
        "  print(nums[-5:])\n",
        "describe_list()"
      ],
      "execution_count": 66,
      "outputs": [
        {
          "output_type": "stream",
          "name": "stdout",
          "text": [
            "1000\n",
            "[17, 78, 57, 12, 68, 51, 89, 25, 9, 56]\n",
            "[50, 28, 41, 81, 47]\n"
          ]
        }
      ]
    },
    {
      "cell_type": "markdown",
      "metadata": {
        "id": "yNWg08k6bXv0"
      },
      "source": [
        "---\n",
        "### Exercise 2 - show tuple items\n",
        "\n",
        "Write a function which will:\n",
        "*   use a loop to print the list of protected characteristics from the `protected_characteristics` tuple.\n"
      ]
    },
    {
      "cell_type": "code",
      "metadata": {
        "id": "P2HnCG9pb1BS",
        "colab": {
          "base_uri": "https://localhost:8080/"
        },
        "outputId": "822ed444-5fcc-4b47-f6f0-699c9f036fa7"
      },
      "source": [
        "def printing_protected_characteristics():\n",
        "  for characteristic in protected_characteristics:\n",
        "    print(characteristic)\n",
        "printing_protected_characteristics()"
      ],
      "execution_count": 67,
      "outputs": [
        {
          "output_type": "stream",
          "name": "stdout",
          "text": [
            "age\n",
            "disability\n",
            "gender reassignment\n",
            "marriage and civil partnership\n",
            "pregnancy and maternity\n",
            "race\n",
            "religion or belief\n",
            "sex\n",
            "sexual orientation\n"
          ]
        }
      ]
    },
    {
      "cell_type": "markdown",
      "metadata": {
        "id": "RTSuQZs4b1JU"
      },
      "source": [
        "---\n",
        "### Exercise 3 - list a random subset\n",
        "\n",
        "Write a function which will:\n",
        "*  calculate the position of the middle item in the `characteristics` list   \n",
        "(*Hint: use len() to help with this*)\n",
        "*  calculate the position of the item that is 5 places before the middle item\n",
        "*  calculate the position of the item that is 5 places after the middle item\n",
        "*  print the part of the list that includes the items from 5 places before to 5 places after.  \n",
        "\n",
        "Expected output:  \n",
        "Your list will include 11 items."
      ]
    },
    {
      "cell_type": "code",
      "metadata": {
        "id": "OwhFnH2kdC11",
        "colab": {
          "base_uri": "https://localhost:8080/"
        },
        "outputId": "04d0e516-04e0-41f9-bd1a-c6f868946af8"
      },
      "source": [
        "def character():\n",
        "  length_character=len(characteristics)\n",
        "  print(characteristics)\n",
        "  print(length_character)\n",
        "  middle=(length_character//2)\n",
        "  print(characteristics[middle])\n",
        "  print(characteristics[middle-5:middle+5])\n",
        "character()"
      ],
      "execution_count": 68,
      "outputs": [
        {
          "output_type": "stream",
          "name": "stdout",
          "text": [
            "['marriage and civil partnership', 'pregnancy and maternity', 'sex', 'disability', 'race', 'disability', 'pregnancy and maternity', 'pregnancy and maternity', 'marriage and civil partnership', 'marriage and civil partnership', 'disability', 'marriage and civil partnership', 'pregnancy and maternity', 'race', 'marriage and civil partnership', 'marriage and civil partnership', 'pregnancy and maternity', 'race', 'sexual orientation', 'pregnancy and maternity', 'marriage and civil partnership', 'pregnancy and maternity', 'age', 'sexual orientation', 'religion or belief', 'age', 'age', 'gender reassignment', 'sexual orientation', 'gender reassignment', 'disability', 'marriage and civil partnership', 'sex', 'disability', 'religion or belief', 'gender reassignment', 'marriage and civil partnership', 'pregnancy and maternity', 'disability', 'religion or belief', 'disability', 'gender reassignment', 'pregnancy and maternity', 'sexual orientation', 'race', 'gender reassignment', 'pregnancy and maternity', 'marriage and civil partnership', 'sex', 'age', 'race', 'race', 'religion or belief', 'gender reassignment', 'sexual orientation', 'religion or belief', 'age', 'age', 'pregnancy and maternity', 'sex', 'race', 'race', 'gender reassignment', 'gender reassignment', 'race', 'marriage and civil partnership', 'sex', 'pregnancy and maternity', 'disability', 'marriage and civil partnership', 'pregnancy and maternity', 'age', 'religion or belief', 'pregnancy and maternity', 'pregnancy and maternity', 'pregnancy and maternity', 'race', 'pregnancy and maternity', 'disability', 'race', 'marriage and civil partnership', 'disability', 'race', 'religion or belief', 'pregnancy and maternity', 'pregnancy and maternity', 'race', 'religion or belief', 'religion or belief', 'age', 'gender reassignment', 'disability', 'gender reassignment', 'disability', 'sex', 'pregnancy and maternity', 'sexual orientation', 'religion or belief', 'pregnancy and maternity', 'age', 'sex', 'sexual orientation', 'religion or belief', 'disability', 'pregnancy and maternity', 'age', 'pregnancy and maternity', 'sexual orientation', 'religion or belief', 'pregnancy and maternity', 'pregnancy and maternity', 'race', 'marriage and civil partnership', 'gender reassignment', 'sexual orientation', 'religion or belief', 'marriage and civil partnership', 'age', 'marriage and civil partnership', 'marriage and civil partnership', 'gender reassignment', 'disability', 'race', 'gender reassignment', 'sexual orientation', 'gender reassignment', 'gender reassignment', 'sexual orientation', 'race', 'race', 'pregnancy and maternity', 'sexual orientation', 'pregnancy and maternity', 'disability', 'gender reassignment', 'marriage and civil partnership', 'sexual orientation', 'race', 'race', 'religion or belief', 'religion or belief', 'age', 'sex', 'marriage and civil partnership', 'race', 'religion or belief', 'age', 'age', 'marriage and civil partnership', 'sexual orientation', 'gender reassignment', 'gender reassignment', 'race', 'pregnancy and maternity', 'age', 'disability', 'sexual orientation', 'religion or belief', 'sexual orientation', 'sex', 'gender reassignment', 'sexual orientation', 'disability', 'marriage and civil partnership', 'sex', 'pregnancy and maternity', 'disability', 'race', 'gender reassignment', 'pregnancy and maternity', 'marriage and civil partnership', 'pregnancy and maternity', 'gender reassignment', 'marriage and civil partnership', 'religion or belief', 'sexual orientation', 'disability', 'pregnancy and maternity', 'sexual orientation', 'pregnancy and maternity', 'marriage and civil partnership', 'sexual orientation', 'gender reassignment', 'disability', 'marriage and civil partnership', 'race', 'marriage and civil partnership', 'marriage and civil partnership', 'religion or belief', 'age', 'age', 'marriage and civil partnership', 'sex', 'race', 'sexual orientation', 'sexual orientation', 'sex', 'race', 'pregnancy and maternity', 'sex', 'marriage and civil partnership', 'race', 'gender reassignment', 'sex', 'age', 'marriage and civil partnership', 'gender reassignment', 'sexual orientation', 'marriage and civil partnership', 'gender reassignment', 'race', 'sex', 'marriage and civil partnership', 'disability', 'gender reassignment', 'race', 'disability', 'pregnancy and maternity', 'disability', 'religion or belief', 'age', 'gender reassignment', 'gender reassignment', 'disability', 'sexual orientation', 'gender reassignment', 'race', 'marriage and civil partnership', 'race', 'religion or belief', 'gender reassignment', 'age', 'pregnancy and maternity', 'gender reassignment', 'age', 'gender reassignment', 'age', 'marriage and civil partnership', 'sexual orientation', 'gender reassignment', 'gender reassignment', 'age', 'sexual orientation', 'marriage and civil partnership', 'marriage and civil partnership', 'pregnancy and maternity', 'race', 'race', 'pregnancy and maternity', 'gender reassignment', 'religion or belief', 'pregnancy and maternity', 'religion or belief', 'age', 'sex', 'race', 'marriage and civil partnership', 'marriage and civil partnership', 'age', 'pregnancy and maternity', 'marriage and civil partnership', 'sex', 'age', 'religion or belief', 'gender reassignment', 'marriage and civil partnership', 'religion or belief', 'sexual orientation', 'gender reassignment', 'age', 'race', 'religion or belief', 'religion or belief', 'age', 'sexual orientation', 'sex', 'marriage and civil partnership', 'gender reassignment', 'sexual orientation', 'sex', 'sexual orientation', 'pregnancy and maternity', 'disability', 'religion or belief', 'race', 'sexual orientation', 'marriage and civil partnership', 'marriage and civil partnership', 'religion or belief', 'pregnancy and maternity', 'sexual orientation', 'religion or belief', 'pregnancy and maternity', 'marriage and civil partnership', 'pregnancy and maternity', 'religion or belief', 'marriage and civil partnership', 'pregnancy and maternity', 'religion or belief', 'marriage and civil partnership', 'sexual orientation', 'race', 'marriage and civil partnership', 'pregnancy and maternity', 'sex', 'sexual orientation', 'pregnancy and maternity', 'age', 'sexual orientation', 'age', 'disability', 'sexual orientation', 'gender reassignment', 'marriage and civil partnership', 'religion or belief', 'gender reassignment', 'sex', 'age', 'gender reassignment', 'age', 'sexual orientation', 'religion or belief', 'religion or belief', 'gender reassignment', 'religion or belief', 'race', 'race', 'marriage and civil partnership', 'age', 'race', 'disability', 'sex', 'marriage and civil partnership', 'marriage and civil partnership', 'disability', 'pregnancy and maternity', 'race', 'age', 'age', 'sex', 'race', 'sexual orientation', 'disability', 'marriage and civil partnership', 'sex', 'marriage and civil partnership', 'gender reassignment', 'disability', 'pregnancy and maternity', 'marriage and civil partnership', 'marriage and civil partnership', 'religion or belief', 'religion or belief', 'pregnancy and maternity', 'disability', 'religion or belief', 'marriage and civil partnership', 'race', 'age', 'race', 'gender reassignment', 'marriage and civil partnership', 'gender reassignment', 'gender reassignment', 'age', 'sexual orientation', 'sex', 'gender reassignment', 'sex', 'disability', 'race', 'sex', 'age', 'pregnancy and maternity', 'gender reassignment', 'sexual orientation', 'religion or belief', 'gender reassignment', 'religion or belief', 'religion or belief', 'sex', 'race', 'sex', 'gender reassignment', 'pregnancy and maternity', 'religion or belief', 'race', 'sexual orientation', 'sex', 'marriage and civil partnership', 'race', 'disability', 'religion or belief', 'religion or belief', 'religion or belief', 'gender reassignment', 'sexual orientation', 'sexual orientation', 'age', 'age', 'sexual orientation', 'marriage and civil partnership', 'sex', 'gender reassignment', 'sexual orientation', 'disability', 'age', 'race', 'religion or belief', 'age', 'sexual orientation', 'age', 'religion or belief', 'marriage and civil partnership', 'marriage and civil partnership', 'age', 'sexual orientation', 'sex', 'religion or belief', 'race', 'pregnancy and maternity', 'religion or belief', 'pregnancy and maternity', 'pregnancy and maternity', 'pregnancy and maternity', 'marriage and civil partnership', 'gender reassignment', 'disability', 'gender reassignment', 'pregnancy and maternity', 'pregnancy and maternity', 'pregnancy and maternity', 'age', 'pregnancy and maternity', 'age', 'marriage and civil partnership', 'sex', 'marriage and civil partnership', 'sexual orientation', 'pregnancy and maternity', 'gender reassignment', 'pregnancy and maternity', 'sex', 'gender reassignment', 'pregnancy and maternity', 'marriage and civil partnership', 'sex', 'religion or belief', 'race', 'age', 'sexual orientation', 'sex', 'marriage and civil partnership', 'sexual orientation', 'disability', 'gender reassignment', 'pregnancy and maternity', 'sexual orientation', 'pregnancy and maternity', 'marriage and civil partnership', 'religion or belief', 'religion or belief', 'age', 'religion or belief', 'sexual orientation', 'disability', 'religion or belief', 'age', 'age', 'gender reassignment', 'age', 'disability', 'age', 'race', 'sexual orientation', 'marriage and civil partnership', 'pregnancy and maternity', 'race', 'pregnancy and maternity', 'marriage and civil partnership', 'race', 'pregnancy and maternity', 'age', 'age', 'age', 'disability', 'race', 'age', 'disability', 'sexual orientation', 'disability', 'race', 'religion or belief', 'pregnancy and maternity', 'religion or belief', 'disability', 'pregnancy and maternity', 'disability', 'age', 'race', 'marriage and civil partnership', 'disability', 'sex', 'religion or belief', 'race', 'age', 'pregnancy and maternity', 'age', 'race', 'sexual orientation', 'disability', 'gender reassignment', 'marriage and civil partnership', 'pregnancy and maternity', 'sexual orientation', 'age', 'disability', 'race', 'pregnancy and maternity', 'marriage and civil partnership', 'gender reassignment', 'marriage and civil partnership', 'religion or belief', 'sexual orientation', 'sexual orientation', 'disability', 'marriage and civil partnership', 'disability', 'religion or belief', 'pregnancy and maternity', 'age', 'pregnancy and maternity', 'religion or belief', 'disability', 'age', 'race', 'disability', 'race', 'marriage and civil partnership', 'pregnancy and maternity', 'religion or belief', 'race', 'pregnancy and maternity', 'sexual orientation', 'age', 'sex', 'disability', 'race', 'marriage and civil partnership', 'sex', 'religion or belief', 'religion or belief', 'age', 'marriage and civil partnership', 'race', 'sexual orientation', 'race', 'disability', 'age', 'sex', 'sexual orientation', 'age', 'disability', 'gender reassignment', 'marriage and civil partnership', 'marriage and civil partnership', 'age', 'marriage and civil partnership', 'marriage and civil partnership', 'disability', 'gender reassignment', 'age', 'disability', 'sexual orientation', 'religion or belief', 'pregnancy and maternity', 'gender reassignment', 'sex', 'sexual orientation', 'marriage and civil partnership', 'marriage and civil partnership', 'marriage and civil partnership', 'sex', 'religion or belief', 'pregnancy and maternity', 'age', 'disability', 'age', 'religion or belief', 'sex', 'religion or belief', 'sex', 'gender reassignment', 'sexual orientation', 'age', 'sex', 'pregnancy and maternity', 'religion or belief', 'pregnancy and maternity', 'sexual orientation', 'pregnancy and maternity', 'age', 'disability', 'religion or belief', 'gender reassignment', 'race', 'age', 'marriage and civil partnership', 'gender reassignment', 'race', 'race', 'gender reassignment', 'disability', 'religion or belief', 'pregnancy and maternity', 'gender reassignment', 'sexual orientation', 'pregnancy and maternity', 'age', 'gender reassignment', 'disability', 'race', 'marriage and civil partnership', 'sex', 'disability', 'disability', 'sexual orientation', 'marriage and civil partnership', 'sex', 'disability', 'pregnancy and maternity', 'sexual orientation', 'gender reassignment', 'sexual orientation', 'race', 'marriage and civil partnership', 'age', 'religion or belief', 'sexual orientation', 'marriage and civil partnership', 'age', 'sex', 'age', 'pregnancy and maternity', 'marriage and civil partnership', 'disability', 'race', 'sex', 'sex', 'religion or belief', 'sex', 'religion or belief', 'religion or belief', 'religion or belief', 'sexual orientation', 'disability', 'religion or belief', 'sex', 'race', 'sex', 'gender reassignment', 'marriage and civil partnership', 'gender reassignment', 'gender reassignment', 'pregnancy and maternity', 'pregnancy and maternity', 'age', 'pregnancy and maternity', 'religion or belief', 'religion or belief', 'sexual orientation', 'disability', 'marriage and civil partnership', 'gender reassignment', 'religion or belief', 'gender reassignment', 'marriage and civil partnership', 'disability', 'pregnancy and maternity', 'gender reassignment', 'age', 'age', 'race', 'race', 'pregnancy and maternity', 'marriage and civil partnership', 'age', 'race', 'sexual orientation', 'religion or belief', 'age', 'marriage and civil partnership', 'religion or belief', 'race', 'marriage and civil partnership', 'disability', 'pregnancy and maternity', 'sexual orientation', 'religion or belief', 'sexual orientation', 'pregnancy and maternity', 'sexual orientation', 'age', 'marriage and civil partnership', 'sexual orientation', 'gender reassignment', 'age', 'pregnancy and maternity', 'religion or belief', 'gender reassignment', 'marriage and civil partnership', 'pregnancy and maternity', 'religion or belief', 'age', 'disability', 'religion or belief', 'age', 'race', 'sexual orientation', 'marriage and civil partnership', 'race', 'marriage and civil partnership', 'disability', 'race', 'gender reassignment', 'marriage and civil partnership', 'pregnancy and maternity', 'race', 'gender reassignment', 'religion or belief', 'gender reassignment', 'religion or belief', 'disability', 'disability', 'sexual orientation', 'race', 'age', 'gender reassignment', 'gender reassignment', 'disability', 'age', 'pregnancy and maternity', 'race', 'sex', 'gender reassignment', 'pregnancy and maternity', 'religion or belief', 'marriage and civil partnership', 'marriage and civil partnership', 'religion or belief', 'pregnancy and maternity', 'marriage and civil partnership', 'religion or belief', 'marriage and civil partnership', 'disability', 'religion or belief', 'race', 'race', 'sex', 'gender reassignment', 'disability', 'pregnancy and maternity', 'disability', 'sexual orientation', 'pregnancy and maternity', 'sex', 'sex', 'disability', 'race', 'marriage and civil partnership', 'marriage and civil partnership', 'marriage and civil partnership', 'pregnancy and maternity', 'sexual orientation', 'age', 'gender reassignment', 'marriage and civil partnership', 'race', 'gender reassignment', 'age', 'race', 'sexual orientation', 'sex', 'sex', 'religion or belief', 'pregnancy and maternity', 'race', 'age', 'sex', 'marriage and civil partnership', 'age', 'marriage and civil partnership', 'marriage and civil partnership', 'race', 'sexual orientation', 'disability', 'sex', 'race', 'sexual orientation', 'pregnancy and maternity', 'pregnancy and maternity', 'religion or belief', 'pregnancy and maternity', 'age', 'sexual orientation', 'religion or belief', 'religion or belief', 'marriage and civil partnership', 'marriage and civil partnership', 'age', 'marriage and civil partnership', 'age', 'sexual orientation', 'disability', 'sex', 'gender reassignment', 'disability', 'sexual orientation', 'religion or belief', 'sexual orientation', 'gender reassignment', 'gender reassignment', 'marriage and civil partnership', 'age', 'race', 'religion or belief', 'age', 'religion or belief', 'age', 'sex', 'gender reassignment', 'pregnancy and maternity', 'religion or belief', 'religion or belief', 'religion or belief', 'pregnancy and maternity', 'religion or belief', 'gender reassignment', 'marriage and civil partnership', 'gender reassignment', 'sex', 'race', 'sexual orientation', 'religion or belief', 'disability', 'pregnancy and maternity', 'religion or belief', 'sex', 'gender reassignment', 'gender reassignment', 'marriage and civil partnership', 'pregnancy and maternity', 'marriage and civil partnership', 'religion or belief', 'pregnancy and maternity', 'sex', 'pregnancy and maternity', 'sexual orientation', 'disability', 'pregnancy and maternity', 'religion or belief', 'disability', 'age', 'religion or belief', 'disability', 'disability', 'sexual orientation', 'sexual orientation', 'age', 'age', 'gender reassignment', 'disability', 'race', 'gender reassignment', 'religion or belief', 'sexual orientation', 'sexual orientation', 'disability', 'disability', 'disability', 'age', 'sex', 'sex', 'marriage and civil partnership', 'marriage and civil partnership', 'sexual orientation', 'gender reassignment', 'religion or belief', 'race', 'sex', 'sexual orientation', 'marriage and civil partnership', 'age', 'pregnancy and maternity', 'sex', 'race', 'sex', 'marriage and civil partnership', 'pregnancy and maternity', 'race', 'gender reassignment', 'disability', 'sexual orientation', 'sexual orientation', 'race', 'age', 'religion or belief', 'sex', 'sex', 'pregnancy and maternity', 'sexual orientation', 'disability', 'race', 'religion or belief', 'sex', 'age', 'age', 'religion or belief', 'race', 'sexual orientation', 'age', 'disability', 'sexual orientation', 'sexual orientation', 'sexual orientation', 'age', 'gender reassignment', 'marriage and civil partnership', 'age', 'marriage and civil partnership', 'pregnancy and maternity', 'race', 'sexual orientation', 'religion or belief', 'pregnancy and maternity', 'race', 'sexual orientation', 'race', 'sexual orientation', 'marriage and civil partnership', 'disability', 'race', 'sex', 'race', 'religion or belief', 'sex', 'religion or belief', 'age', 'sexual orientation', 'sexual orientation', 'religion or belief', 'religion or belief', 'sex', 'disability', 'race', 'sex', 'religion or belief', 'pregnancy and maternity', 'age', 'sex', 'marriage and civil partnership', 'sexual orientation', 'disability', 'pregnancy and maternity', 'gender reassignment', 'religion or belief', 'gender reassignment', 'race', 'disability', 'marriage and civil partnership', 'gender reassignment', 'age', 'gender reassignment', 'pregnancy and maternity', 'religion or belief', 'sex', 'religion or belief', 'race', 'gender reassignment', 'religion or belief', 'gender reassignment', 'race', 'marriage and civil partnership', 'gender reassignment', 'pregnancy and maternity', 'marriage and civil partnership', 'disability', 'pregnancy and maternity', 'sex', 'religion or belief', 'marriage and civil partnership', 'religion or belief', 'gender reassignment', 'race', 'marriage and civil partnership', 'religion or belief', 'age', 'gender reassignment', 'disability', 'age', 'pregnancy and maternity', 'sexual orientation', 'sex', 'religion or belief', 'marriage and civil partnership', 'race', 'gender reassignment', 'pregnancy and maternity', 'race', 'sex', 'pregnancy and maternity', 'marriage and civil partnership', 'gender reassignment', 'marriage and civil partnership', 'religion or belief', 'disability', 'age', 'marriage and civil partnership', 'gender reassignment', 'gender reassignment', 'religion or belief', 'pregnancy and maternity', 'marriage and civil partnership', 'sex', 'pregnancy and maternity', 'marriage and civil partnership', 'sexual orientation', 'disability', 'sexual orientation', 'sex', 'pregnancy and maternity', 'disability', 'marriage and civil partnership', 'gender reassignment', 'pregnancy and maternity', 'marriage and civil partnership', 'disability', 'age', 'race', 'gender reassignment', 'sex', 'race', 'disability', 'religion or belief', 'religion or belief', 'age', 'sexual orientation', 'marriage and civil partnership', 'marriage and civil partnership', 'religion or belief', 'sexual orientation', 'pregnancy and maternity', 'religion or belief', 'race', 'sexual orientation', 'marriage and civil partnership', 'religion or belief', 'religion or belief', 'pregnancy and maternity', 'race', 'religion or belief', 'disability', 'sex', 'religion or belief', 'age', 'sexual orientation', 'age', 'age', 'gender reassignment', 'sexual orientation', 'marriage and civil partnership', 'race', 'sex', 'race', 'disability', 'sex', 'pregnancy and maternity', 'age', 'religion or belief', 'age', 'disability', 'pregnancy and maternity', 'gender reassignment', 'age', 'religion or belief', 'sexual orientation', 'age', 'sex', 'pregnancy and maternity', 'marriage and civil partnership', 'disability', 'disability', 'sex', 'gender reassignment', 'sexual orientation', 'marriage and civil partnership', 'age', 'sexual orientation', 'sex', 'disability', 'disability', 'pregnancy and maternity', 'age', 'sex', 'marriage and civil partnership', 'race', 'age', 'gender reassignment', 'marriage and civil partnership', 'marriage and civil partnership', 'religion or belief', 'race', 'age', 'sex', 'marriage and civil partnership', 'sex', 'pregnancy and maternity', 'pregnancy and maternity', 'religion or belief', 'marriage and civil partnership', 'race', 'pregnancy and maternity', 'sex', 'marriage and civil partnership', 'disability', 'disability', 'disability', 'marriage and civil partnership', 'disability', 'marriage and civil partnership', 'religion or belief', 'disability', 'marriage and civil partnership', 'race', 'gender reassignment', 'sex', 'marriage and civil partnership', 'disability', 'disability', 'sexual orientation', 'sex', 'age', 'sexual orientation', 'age', 'religion or belief', 'gender reassignment', 'sex', 'sexual orientation', 'marriage and civil partnership', 'gender reassignment', 'disability', 'gender reassignment', 'religion or belief', 'pregnancy and maternity', 'gender reassignment', 'sex', 'marriage and civil partnership', 'marriage and civil partnership', 'religion or belief', 'marriage and civil partnership', 'race', 'pregnancy and maternity', 'sex', 'marriage and civil partnership', 'age', 'gender reassignment', 'pregnancy and maternity', 'disability', 'marriage and civil partnership', 'religion or belief', 'marriage and civil partnership', 'gender reassignment', 'religion or belief', 'race', 'sexual orientation', 'age', 'race', 'religion or belief', 'race', 'race', 'pregnancy and maternity', 'age', 'sexual orientation', 'religion or belief', 'gender reassignment', 'pregnancy and maternity', 'age', 'gender reassignment', 'marriage and civil partnership', 'religion or belief', 'pregnancy and maternity', 'pregnancy and maternity', 'pregnancy and maternity', 'disability', 'gender reassignment', 'religion or belief', 'race', 'disability', 'disability', 'religion or belief', 'pregnancy and maternity', 'gender reassignment', 'religion or belief', 'gender reassignment', 'race', 'gender reassignment', 'race', 'disability', 'gender reassignment', 'sex', 'race', 'pregnancy and maternity', 'gender reassignment', 'race', 'race', 'age', 'religion or belief', 'sex', 'sex', 'gender reassignment', 'race', 'gender reassignment', 'disability', 'pregnancy and maternity', 'pregnancy and maternity', 'disability', 'age', 'disability', 'pregnancy and maternity', 'sex', 'religion or belief', 'race', 'marriage and civil partnership', 'religion or belief', 'religion or belief', 'sexual orientation', 'disability', 'gender reassignment', 'religion or belief', 'pregnancy and maternity', 'pregnancy and maternity', 'disability', 'sex', 'sexual orientation', 'disability', 'pregnancy and maternity', 'age', 'sex', 'disability', 'age', 'gender reassignment', 'pregnancy and maternity', 'disability', 'age', 'gender reassignment', 'disability', 'marriage and civil partnership', 'gender reassignment', 'marriage and civil partnership', 'sex', 'religion or belief', 'sex', 'pregnancy and maternity', 'sex', 'marriage and civil partnership', 'gender reassignment', 'age', 'age', 'pregnancy and maternity', 'gender reassignment', 'religion or belief', 'sexual orientation', 'religion or belief', 'race', 'age', 'race', 'disability', 'race', 'sexual orientation', 'sex', 'age', 'marriage and civil partnership', 'marriage and civil partnership', 'marriage and civil partnership', 'religion or belief', 'religion or belief', 'disability', 'pregnancy and maternity', 'gender reassignment', 'race', 'race', 'gender reassignment', 'marriage and civil partnership', 'religion or belief', 'religion or belief', 'gender reassignment', 'sexual orientation', 'sex', 'sex', 'sexual orientation', 'religion or belief', 'disability', 'pregnancy and maternity', 'gender reassignment', 'marriage and civil partnership', 'race', 'gender reassignment', 'disability', 'pregnancy and maternity', 'religion or belief', 'sexual orientation', 'sex', 'religion or belief', 'marriage and civil partnership', 'sex', 'sex', 'marriage and civil partnership', 'gender reassignment', 'pregnancy and maternity', 'disability', 'gender reassignment', 'gender reassignment', 'race', 'marriage and civil partnership', 'marriage and civil partnership', 'sexual orientation', 'race', 'religion or belief', 'religion or belief', 'religion or belief', 'pregnancy and maternity', 'religion or belief', 'race', 'sexual orientation', 'gender reassignment', 'religion or belief', 'sexual orientation', 'disability', 'race', 'gender reassignment', 'sexual orientation', 'marriage and civil partnership', 'age', 'disability', 'gender reassignment', 'gender reassignment', 'gender reassignment', 'gender reassignment', 'disability', 'religion or belief', 'race', 'sexual orientation', 'race', 'age', 'sex', 'gender reassignment', 'age', 'religion or belief', 'race', 'disability', 'race', 'gender reassignment', 'religion or belief', 'gender reassignment', 'pregnancy and maternity', 'religion or belief', 'marriage and civil partnership', 'religion or belief', 'age', 'race', 'gender reassignment', 'disability', 'gender reassignment', 'religion or belief', 'disability', 'age', 'marriage and civil partnership', 'sex', 'disability', 'age', 'disability', 'gender reassignment', 'sexual orientation', 'marriage and civil partnership', 'disability', 'pregnancy and maternity', 'sexual orientation', 'marriage and civil partnership', 'age', 'disability', 'pregnancy and maternity', 'pregnancy and maternity', 'sex', 'gender reassignment', 'sex', 'sexual orientation', 'pregnancy and maternity', 'age', 'sexual orientation', 'gender reassignment', 'age', 'marriage and civil partnership', 'age', 'pregnancy and maternity', 'gender reassignment', 'disability', 'gender reassignment', 'religion or belief', 'race', 'pregnancy and maternity', 'race', 'religion or belief', 'disability', 'age', 'age', 'gender reassignment', 'gender reassignment', 'race', 'age', 'gender reassignment', 'religion or belief', 'sexual orientation', 'marriage and civil partnership', 'pregnancy and maternity', 'sex', 'sexual orientation', 'sexual orientation', 'marriage and civil partnership', 'sex', 'sexual orientation', 'religion or belief', 'marriage and civil partnership', 'disability', 'age', 'pregnancy and maternity', 'gender reassignment', 'religion or belief', 'gender reassignment', 'gender reassignment', 'marriage and civil partnership', 'race', 'marriage and civil partnership', 'sex', 'gender reassignment', 'age', 'marriage and civil partnership', 'pregnancy and maternity', 'religion or belief', 'religion or belief', 'gender reassignment', 'religion or belief', 'age', 'religion or belief', 'gender reassignment', 'disability', 'sexual orientation', 'sex', 'sex', 'sexual orientation', 'age', 'race', 'age', 'sexual orientation', 'religion or belief', 'pregnancy and maternity', 'race', 'sexual orientation', 'age', 'age', 'sexual orientation', 'pregnancy and maternity', 'marriage and civil partnership', 'disability', 'age', 'age', 'religion or belief', 'religion or belief', 'age', 'race', 'disability', 'disability', 'gender reassignment', 'disability', 'sex', 'sexual orientation', 'disability', 'religion or belief', 'age', 'gender reassignment', 'pregnancy and maternity', 'pregnancy and maternity', 'religion or belief', 'marriage and civil partnership', 'gender reassignment', 'race', 'gender reassignment', 'marriage and civil partnership', 'religion or belief', 'disability', 'disability', 'marriage and civil partnership', 'disability', 'sexual orientation', 'disability', 'disability', 'sexual orientation', 'pregnancy and maternity', 'pregnancy and maternity', 'sex', 'marriage and civil partnership', 'sex', 'disability', 'gender reassignment', 'marriage and civil partnership', 'marriage and civil partnership', 'religion or belief', 'religion or belief', 'race', 'religion or belief', 'gender reassignment', 'sexual orientation', 'disability', 'marriage and civil partnership', 'disability', 'age', 'age', 'disability', 'age', 'sex', 'disability', 'sex', 'gender reassignment', 'age', 'marriage and civil partnership', 'sexual orientation', 'religion or belief', 'pregnancy and maternity', 'marriage and civil partnership', 'pregnancy and maternity', 'religion or belief', 'religion or belief', 'marriage and civil partnership', 'marriage and civil partnership', 'sexual orientation', 'sex', 'marriage and civil partnership', 'age', 'sex', 'religion or belief', 'race', 'marriage and civil partnership', 'disability', 'race', 'religion or belief', 'gender reassignment', 'pregnancy and maternity', 'sexual orientation', 'sexual orientation', 'disability', 'age', 'gender reassignment', 'gender reassignment', 'sexual orientation', 'age', 'pregnancy and maternity', 'disability', 'sex', 'race', 'marriage and civil partnership', 'pregnancy and maternity', 'sex', 'race', 'gender reassignment', 'religion or belief', 'pregnancy and maternity', 'gender reassignment', 'disability', 'disability', 'marriage and civil partnership', 'race', 'age', 'pregnancy and maternity', 'disability', 'sex', 'marriage and civil partnership', 'sex', 'race', 'religion or belief', 'marriage and civil partnership', 'sexual orientation', 'pregnancy and maternity', 'marriage and civil partnership', 'sexual orientation', 'religion or belief', 'race', 'marriage and civil partnership', 'sexual orientation', 'age', 'sexual orientation', 'race', 'race', 'disability', 'age', 'marriage and civil partnership', 'sex', 'race', 'gender reassignment', 'marriage and civil partnership', 'pregnancy and maternity', 'marriage and civil partnership', 'age', 'marriage and civil partnership', 'disability', 'gender reassignment', 'pregnancy and maternity', 'race', 'sex', 'race', 'race', 'sexual orientation', 'disability', 'sex', 'religion or belief', 'pregnancy and maternity', 'race', 'gender reassignment', 'religion or belief', 'sex', 'religion or belief', 'marriage and civil partnership', 'marriage and civil partnership', 'gender reassignment', 'sexual orientation', 'gender reassignment', 'disability', 'religion or belief', 'sex', 'sexual orientation', 'religion or belief', 'age', 'religion or belief', 'disability', 'disability', 'race', 'sexual orientation', 'age', 'pregnancy and maternity', 'race', 'age', 'age', 'religion or belief', 'pregnancy and maternity', 'age', 'gender reassignment', 'pregnancy and maternity', 'religion or belief', 'marriage and civil partnership', 'marriage and civil partnership', 'sex', 'marriage and civil partnership', 'sexual orientation', 'pregnancy and maternity', 'disability', 'sex', 'pregnancy and maternity', 'race', 'disability', 'marriage and civil partnership', 'age', 'sex', 'age', 'sexual orientation', 'pregnancy and maternity', 'sex', 'sex', 'sexual orientation', 'age', 'marriage and civil partnership', 'pregnancy and maternity', 'sex', 'gender reassignment', 'pregnancy and maternity', 'sex', 'sexual orientation', 'pregnancy and maternity', 'marriage and civil partnership', 'religion or belief', 'disability', 'gender reassignment', 'disability', 'pregnancy and maternity', 'age', 'sex', 'sexual orientation', 'pregnancy and maternity', 'age', 'religion or belief', 'race', 'pregnancy and maternity', 'pregnancy and maternity', 'age', 'disability', 'age', 'pregnancy and maternity', 'marriage and civil partnership', 'gender reassignment', 'disability', 'race', 'race', 'age', 'marriage and civil partnership', 'race', 'sexual orientation', 'disability', 'marriage and civil partnership', 'race', 'sex', 'sex', 'sexual orientation', 'marriage and civil partnership', 'sexual orientation', 'pregnancy and maternity', 'sex', 'race', 'age', 'race', 'disability', 'religion or belief', 'race', 'race', 'gender reassignment', 'marriage and civil partnership', 'sex', 'pregnancy and maternity', 'race', 'pregnancy and maternity', 'marriage and civil partnership', 'race', 'disability', 'religion or belief', 'sexual orientation', 'gender reassignment', 'age', 'age', 'race', 'pregnancy and maternity', 'race', 'age', 'religion or belief', 'religion or belief', 'race', 'sexual orientation', 'sexual orientation', 'gender reassignment', 'sexual orientation', 'gender reassignment', 'disability', 'sexual orientation', 'sex', 'sexual orientation', 'age', 'pregnancy and maternity', 'sex', 'marriage and civil partnership', 'marriage and civil partnership', 'religion or belief', 'gender reassignment', 'sexual orientation', 'disability', 'marriage and civil partnership', 'gender reassignment', 'sex', 'marriage and civil partnership', 'pregnancy and maternity', 'disability', 'sex', 'sex', 'age', 'gender reassignment', 'race', 'gender reassignment', 'sexual orientation', 'age', 'gender reassignment', 'religion or belief', 'sex', 'religion or belief', 'pregnancy and maternity', 'disability', 'gender reassignment', 'marriage and civil partnership', 'race', 'sex', 'race', 'disability', 'marriage and civil partnership', 'marriage and civil partnership', 'race', 'age', 'pregnancy and maternity', 'gender reassignment', 'religion or belief', 'sexual orientation', 'sexual orientation', 'disability', 'disability', 'pregnancy and maternity', 'sex', 'marriage and civil partnership', 'disability', 'disability', 'race', 'religion or belief', 'age', 'marriage and civil partnership', 'race', 'marriage and civil partnership', 'disability', 'pregnancy and maternity', 'disability', 'pregnancy and maternity', 'pregnancy and maternity', 'age', 'race', 'disability', 'pregnancy and maternity', 'age', 'age', 'sex', 'age', 'marriage and civil partnership', 'disability', 'religion or belief', 'religion or belief', 'disability', 'sexual orientation', 'pregnancy and maternity', 'disability', 'age', 'marriage and civil partnership', 'race', 'age', 'disability', 'race', 'marriage and civil partnership', 'marriage and civil partnership', 'pregnancy and maternity', 'pregnancy and maternity', 'age', 'marriage and civil partnership', 'disability', 'marriage and civil partnership', 'gender reassignment', 'race', 'race', 'pregnancy and maternity', 'age', 'marriage and civil partnership', 'sexual orientation', 'sex', 'disability', 'sex', 'marriage and civil partnership', 'age', 'age', 'age', 'sexual orientation', 'race', 'age', 'sex', 'pregnancy and maternity', 'age', 'religion or belief', 'age', 'race', 'marriage and civil partnership', 'race', 'age', 'gender reassignment', 'pregnancy and maternity', 'sexual orientation', 'age', 'age', 'sex', 'marriage and civil partnership']\n",
            "1885\n",
            "sex\n",
            "['race', 'sexual orientation', 'marriage and civil partnership', 'disability', 'race', 'sex', 'race', 'religion or belief', 'sex', 'religion or belief']\n"
          ]
        }
      ]
    },
    {
      "cell_type": "markdown",
      "metadata": {
        "id": "KS0x3oFNePI9"
      },
      "source": [
        "---\n",
        "### Exercise 4 - create a copy\n",
        "\n",
        "Write a function which will: use a for loop to create a copy of the `nums` list:\n",
        "\n",
        "*   create a new, empty, list called **new_nums**  (*Hint: an empty list is [ ]*)\n",
        "*   use a for loop which uses the following syntax:  `for num in nums:`\n",
        "*   each time round the loop append `num` to `new_nums`  ( *`new_nums.append(num)`*)\n",
        "*   print the first 10 items of `new_nums`\n",
        "*   print the first 10 items of `nums`\n",
        "*   print the length of both lists"
      ]
    },
    {
      "cell_type": "code",
      "metadata": {
        "id": "mpK1Ip3we-uC",
        "colab": {
          "base_uri": "https://localhost:8080/"
        },
        "outputId": "1ade8809-b7f7-4449-f43e-3fb4e5bff141"
      },
      "source": [
        "def new_nums_length():\n",
        "  new_nums=[]\n",
        "  for num in nums:\n",
        "    new_nums.append(num)\n",
        "  print(new_nums[:10])\n",
        "  print(nums[:10])\n",
        "  print(len(new_nums))\n",
        "  print(len(nums))\n",
        "new_nums_length()"
      ],
      "execution_count": 69,
      "outputs": [
        {
          "output_type": "stream",
          "name": "stdout",
          "text": [
            "[17, 78, 57, 12, 68, 51, 89, 25, 9, 56]\n",
            "[17, 78, 57, 12, 68, 51, 89, 25, 9, 56]\n",
            "1000\n",
            "1000\n"
          ]
        }
      ]
    },
    {
      "cell_type": "markdown",
      "metadata": {
        "id": "deUIFWjRe-3G"
      },
      "source": [
        "\n",
        "\n",
        "```\n",
        "# This is formatted as code\n",
        "```\n",
        "\n",
        "---\n",
        "### Exercise 5 - count the occurrence of age in characteristics\n",
        "\n",
        "Write a function which will use the list method:\n",
        "\n",
        "`num_items = list_name.count(item)`\n",
        "\n",
        "to count the number of occurrences of 'age' in the `characteristics` list.  Print the result."
      ]
    },
    {
      "cell_type": "code",
      "metadata": {
        "id": "b9TrHQ9hfoIU",
        "colab": {
          "base_uri": "https://localhost:8080/"
        },
        "outputId": "35843473-2f0b-46f8-e5d6-fe5daeb6aeec"
      },
      "source": [
        "def age_characteristic():\n",
        "  num_items=characteristics.count(\"age\")\n",
        "  print(num_items)\n",
        "age_characteristic()"
      ],
      "execution_count": 70,
      "outputs": [
        {
          "output_type": "stream",
          "name": "stdout",
          "text": [
            "217\n"
          ]
        }
      ]
    },
    {
      "cell_type": "markdown",
      "metadata": {
        "id": "zm2VI5RmfoSy"
      },
      "source": [
        "---\n",
        "### Exercise 6 - sort the nums list\n",
        "\n",
        "Write a function which will:\n",
        "*   call the function `get_num_list()` and store the result in a new list called **sort_nums**\n",
        "*   print the first, and last, 20 items in the `sort_nums` list\n",
        "*   use the `list_name.sort()` method to sort the `sort_nums` list into ascending order\n",
        "*   print the first, and last, 20 items again  \n",
        "*   use the `list_name.sort()` method again to sort the `sort_nums` list into descending order\n",
        "*   print the first, and last, 20 items again"
      ]
    },
    {
      "cell_type": "code",
      "metadata": {
        "id": "Fksgpj9JgWDs",
        "colab": {
          "base_uri": "https://localhost:8080/"
        },
        "outputId": "2ea0f8c4-a695-47fc-a52f-a7b2bebfa94f"
      },
      "source": [
        "def sort_nums_1():\n",
        "  sort_nums=get_num_list()\n",
        "  print(sort_nums[:20],sort_nums[-20:])\n",
        "  sort_nums.sort(reverse=False)\n",
        "  print(sort_nums[:20],sort_nums[-20:])\n",
        "  sort_nums.sort(reverse=True)\n",
        "  print(sort_nums[:20],sort_nums[-20:])\n",
        "sort_nums_1()"
      ],
      "execution_count": 71,
      "outputs": [
        {
          "output_type": "stream",
          "name": "stdout",
          "text": [
            "[91, 93, 99, 98, 30, 54, 12, 35, 35, 59, 71, 68, 3, 70, 35, 21, 97, 39, 87, 23] [59, 47, 22, 43, 37, 69, 73, 41, 7, 78, 2, 80, 82, 5, 89, 88, 8, 48, 7, 13]\n",
            "[1, 1, 1, 1, 1, 1, 1, 1, 1, 1, 2, 2, 2, 2, 2, 3, 3, 3, 3, 3] [98, 98, 99, 99, 99, 99, 99, 99, 99, 99, 99, 100, 100, 100, 100, 100, 100, 100, 100, 100]\n",
            "[100, 100, 100, 100, 100, 100, 100, 100, 100, 99, 99, 99, 99, 99, 99, 99, 99, 99, 98, 98] [3, 3, 3, 3, 3, 2, 2, 2, 2, 2, 1, 1, 1, 1, 1, 1, 1, 1, 1, 1]\n"
          ]
        }
      ]
    },
    {
      "cell_type": "markdown",
      "metadata": {
        "id": "_OF-Xuj1UrW0"
      },
      "source": [
        "---\n",
        "### Exercise 7 - get statistics (max(), min(), sum() )\n",
        "\n",
        "Write a function which will:\n",
        "*   print the maximum and minimum numbers in the `nums` list  \n",
        "*   print the sum of the `nums` list\n",
        "*   calculate and print the average of the `nums` list (using `len()` to help)"
      ]
    },
    {
      "cell_type": "code",
      "metadata": {
        "id": "9YmYMenZVGod",
        "colab": {
          "base_uri": "https://localhost:8080/"
        },
        "outputId": "69b6ae67-d129-470d-82dd-6e968ff2c5af"
      },
      "source": [
        "def get_statistics():\n",
        "  print(max(nums), min(nums))\n",
        "  print(sum(nums))\n",
        "  average_nums=sum(nums)/len(nums)\n",
        "  print(average_nums)\n",
        "get_statistics()"
      ],
      "execution_count": 72,
      "outputs": [
        {
          "output_type": "stream",
          "name": "stdout",
          "text": [
            "100 1\n",
            "50876\n",
            "50.876\n"
          ]
        }
      ]
    },
    {
      "cell_type": "markdown",
      "metadata": {
        "id": "Mn4tHQ_KVbHa"
      },
      "source": [
        "---\n",
        "### Exercise 8 - percentage difference\n",
        "\n",
        "Write a function which will:\n",
        "*   generate a new list called **ex8_nums** using `get_num_list()`\n",
        "*   calculate and print the percentage difference between the first number in each list (as a percentage of the number in the nums list) (Hint:  find the difference between the two numbers, divide the difference by the number in `nums` and multiply by 100)\n",
        "*   calculate and print the percentage difference between the last numbers in each list in the same way\n",
        "*   calculate and print the percentage difference between the middle numbers in each list in the same way.\n",
        "*   calculate and print the percentage difference between the sums of each list in the same way"
      ]
    },
    {
      "cell_type": "code",
      "metadata": {
        "id": "nJCQjZIeZL0e",
        "colab": {
          "base_uri": "https://localhost:8080/"
        },
        "outputId": "664f0de6-0b58-438b-d4dd-f7a525e907f4"
      },
      "source": [
        "def percentage_difference():\n",
        "  ex8_nums=get_num_list()\n",
        "\n",
        "  middle_nums=len(nums)//2\n",
        "  middle_ex8_nums=len(ex8_nums)//2\n",
        "\n",
        "  num_1st=nums[0]\n",
        "  ex8_1st=ex8_nums[0]\n",
        "  \n",
        "  ex8_last=ex8_nums[-1]\n",
        "  num_last=nums[-1]\n",
        "\n",
        "  num_middle=nums[middle_nums]\n",
        "  ex8_middle=ex8_nums[middle_ex8_nums]\n",
        "\n",
        "  num_sum=sum(nums)\n",
        "  ex8_sum=sum(ex8_nums)\n",
        "  \n",
        "  print(num_1st, num_middle, num_last, sum(nums))\n",
        "  print(ex8_1st, ex8_middle, ex8_last, sum(ex8_nums))\n",
        "\n",
        "  first_per_dif=(ex8_1st-num_1st)/num_1st*100\n",
        "  print(round(first_per_dif, 2),\"%\")\n",
        "  middle_per_dif=(ex8_middle-num_middle)/num_middle*100\n",
        "  print(round(middle_per_dif, 2),\"%\")\n",
        "  last_per_dif=(ex8_last-num_last)/num_last*100\n",
        "  print(round(last_per_dif, 2),\"%\")\n",
        "  sum_per_dif=(ex8_sum-num_sum)/num_sum*100\n",
        "  print(round(sum_per_dif, 2),\"%\")\n",
        "percentage_difference()"
      ],
      "execution_count": 73,
      "outputs": [
        {
          "output_type": "stream",
          "name": "stdout",
          "text": [
            "17 15 47 50876\n",
            "69 33 98 51781\n",
            "305.88 %\n",
            "120.0 %\n",
            "108.51 %\n",
            "1.78 %\n"
          ]
        }
      ]
    },
    {
      "cell_type": "markdown",
      "metadata": {
        "id": "HNs3lZmYawFO"
      },
      "source": [
        "---\n",
        "### Exercise 9 - characteristic counts\n",
        "\n",
        "Write a function which will:\n",
        "*  iterate through the `protected_characteristics` tuple and for each **characteristic**:\n",
        "*   *   count the number of occurrences of that `characteristic` in the `characteristics` list\n",
        "*   *   print the `protected_characteristic` and the **count**  \n",
        "\n",
        "Example expected output:\n",
        "\n",
        "age 100  \n",
        "disability 120  \n",
        "gender reassignment 120  \n",
        "marriage and civil partnership 111  \n",
        "pregnancy and maternity 103  \n",
        "race 106  \n",
        "religion or belief 95  \n",
        "sex 110  \n",
        "sexual orientation 113  \n",
        "\n",
        "Extra learning:  you can read [here](https://thispointer.com/python-how-to-pad-strings-with-zero-space-or-some-other-character/) how to justify the printed characteristic so that the output is organised into two columns as shown below:  \n",
        "![tabulated output](https://drive.google.com/uc?id=1CCXfX6K5ZeDefnq7vUsqxCDmqvcfY8Mz)\n",
        "\n",
        "\n",
        "\n"
      ]
    },
    {
      "cell_type": "code",
      "metadata": {
        "id": "GURT11albqUs",
        "colab": {
          "base_uri": "https://localhost:8080/"
        },
        "outputId": "1b6220c8-ebcf-4bc6-a7a4-886a0af2cee1"
      },
      "source": [
        "def characteristic_count():\n",
        "  for characteristic in protected_characteristics:\n",
        "    print(characteristic)\n",
        "    print(characteristics.count(characteristic))\n",
        "characteristic_count()"
      ],
      "execution_count": 74,
      "outputs": [
        {
          "output_type": "stream",
          "name": "stdout",
          "text": [
            "age\n",
            "217\n",
            "disability\n",
            "204\n",
            "gender reassignment\n",
            "209\n",
            "marriage and civil partnership\n",
            "247\n",
            "pregnancy and maternity\n",
            "223\n",
            "race\n",
            "203\n",
            "religion or belief\n",
            "227\n",
            "sex\n",
            "166\n",
            "sexual orientation\n",
            "189\n"
          ]
        }
      ]
    },
    {
      "cell_type": "markdown",
      "metadata": {
        "id": "9Po7yQj-ds38"
      },
      "source": [
        "---\n",
        "### Exercise 10 - characteristics statistics\n",
        "\n",
        "Assuming that the `characteristics` list may have been taken from a study of cases that have been taken to court in relation to the Equality Act.  \n",
        "\n",
        "Write a function which will:\n",
        "\n",
        "*   find the most common characteristic resulting in court action, from this population\n",
        "*   print this in a message, e.g. The characteristic with the highest number of court cases is:  *characteristic*\n",
        "*   print the list of `protected_characteristics`, on one line if possible - see [here](https://www.geeksforgeeks.org/g-fact-25-print-single-multiple-variable-python/)\n",
        "*   ask the user to enter a characteristic that they would like to see statistics on and use a while loop to continue until the user has entered a valid characteristic\n",
        "*   print the characteristic, its frequency and the percentage that this frequency is of the whole population."
      ]
    },
    {
      "cell_type": "code",
      "metadata": {
        "id": "uk_I5z7UgbDs",
        "colab": {
          "base_uri": "https://localhost:8080/"
        },
        "outputId": "a9e81c5c-f2f5-4d7e-c90e-bf4b92061f2a"
      },
      "source": [
        "def characteristics_statistics():\n",
        "  most_freq_chara = \"\"\n",
        "  max_count = 0\n",
        "  user_input_chara = \"\"\n",
        "\n",
        "  for characteristic in protected_characteristics:\n",
        "    if characteristics.count(characteristic) > max_count:\n",
        "      most_freq_chara = characteristic\n",
        "      max_count = characteristics.count(characteristic)\n",
        "\n",
        "  print(\"the characteristic with the highest number of court cases is\" , most_freq_chara , \"with\" , max_count , \"cases\")\n",
        "  print(\"however if you would like to see other statistics then enter one of the following:\")\n",
        "  print(protected_characteristics)\n",
        "  \n",
        "  characteristic = False\n",
        "  while characteristic == False:\n",
        "    user_input_chara = input()\n",
        "    if user_input_chara in protected_characteristics:\n",
        "      characteristic = True\n",
        "    else:\n",
        "      print(\"invalid, try again\")\n",
        "  \n",
        "  print(\"court cases:\", characteristics.count(user_input_chara))\n",
        "  average_user_input = characteristics.count(user_input_chara)/len(characteristics)\n",
        "  print(\"percentage:\", average_user_input*100,\"%\")\n",
        "\n",
        "characteristics_statistics()"
      ],
      "execution_count": 82,
      "outputs": [
        {
          "output_type": "stream",
          "name": "stdout",
          "text": [
            "the characteristic with the highest number of court cases is marriage and civil partnership with 247 cases\n",
            "however if you would like to see other statistics then enter one of the following:\n",
            "('age', 'disability', 'gender reassignment', 'marriage and civil partnership', 'pregnancy and maternity', 'race', 'religion or belief', 'sex', 'sexual orientation')\n",
            "aaa\n",
            "invalid, try again\n",
            "age\n",
            "court cases: 217\n",
            "percentage: 11.511936339522547 %\n"
          ]
        }
      ]
    },
    {
      "cell_type": "markdown",
      "source": [
        ""
      ],
      "metadata": {
        "id": "bkC7p61hU3Ce"
      }
    }
  ]
}